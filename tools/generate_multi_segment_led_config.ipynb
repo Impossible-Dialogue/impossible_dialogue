{
    "cells": [
        {
            "cell_type": "code",
            "execution_count": 9,
            "metadata": {},
            "outputs": [],
            "source": [
                "import numpy as np\n",
                "import json\n",
                "\n",
                "from funky_lights import led_config\n",
                "\n",
                "UIDS = [x for x in range(16,0, -1)]\n",
                "NUM_LEDS = 30\n",
                "\n",
                "# Create LED config\n",
                "config = led_config.LedConfig()\n",
                "for i, uid in enumerate(UIDS):\n",
                "    points = np.array([[x/30, i*0.1, 0] for x in range(0,30)])\n",
                "    segment = led_config.Segment(\n",
                "            uid=uid, name='segment_%d' % uid, points=points, num_leds=points.shape[0], length=1)\n",
                "    config.led_segments.append(segment)\n",
                "    config.total_num_segments += 1\n",
                "    config.total_length += segment.length\n",
                "    config.total_num_leds += segment.num_leds\n",
                "\n",
                "with open('../config/led_config.multi_segment.json', 'w', encoding='utf-8') as f:\n",
                "    json.dump(config.to_dict(), f, ensure_ascii=False, indent=4)\n"
            ]
        }
    ],
    "metadata": {
        "kernelspec": {
            "display_name": "Python 3.7.13 ('base')",
            "language": "python",
            "name": "python3"
        },
        "language_info": {
            "codemirror_mode": {
                "name": "ipython",
                "version": 3
            },
            "file_extension": ".py",
            "mimetype": "text/x-python",
            "name": "python",
            "nbconvert_exporter": "python",
            "pygments_lexer": "ipython3",
            "version": "3.7.13"
        },
        "orig_nbformat": 4,
        "vscode": {
            "interpreter": {
                "hash": "40d3a090f54c6569ab1632332b64b2c03c39dcf918b08424e98f38b5ae0af88f"
            }
        }
    },
    "nbformat": 4,
    "nbformat_minor": 2
}
