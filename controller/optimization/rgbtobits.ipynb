{
 "cells": [
  {
   "cell_type": "code",
   "execution_count": 17,
   "metadata": {},
   "outputs": [],
   "source": [
    "import random\n",
    "import numpy as np\n",
    "import time\n",
    "from funky_lights import messages"
   ]
  },
  {
   "cell_type": "code",
   "execution_count": 22,
   "metadata": {},
   "outputs": [
    {
     "name": "stdout",
     "output_type": "stream",
     "text": [
      "Old method: 2.291390895843506 secs\n",
      "New method: 0.09324097633361816 secs\n",
      "[224   7 224 255]\n",
      "bytearray(b'\\xf7\\x01\\x00\\x00\\x00\\x00\\x00\\x00\\xc9\\x00\\x00\\x00\\x00\\x00\\x00\\x00\\xa3\\x01\\x00\\x00\\x00\\x00\\x00\\x00\\xc3\\x01\\x00\\x00\\x00\\x00\\x00\\x00')\n"
     ]
    }
   ],
   "source": [
    "def RgbToBits(rgbs):\n",
    "    out = []\n",
    "    # We pack data as 16 bits: RRRRRGGGGGGBBBBB\n",
    "    for rgb in rgbs:\n",
    "        r, g, b = rgb\n",
    "        out += [((g << 3) & 0xE0) | ((b >> 3) & 0x1F),\n",
    "                (r & 0xF8) | ((g >> 5) & 0x07)]\n",
    "\n",
    "def RgbToBits_Opt(rgbs):\n",
    "    # We pack data as 16 bits: RRRRRGGGGGGBBBBB\n",
    "    out = [0] * (len(rgbs) * 2)\n",
    "    r = rgbs[:, 0]\n",
    "    g = rgbs[:, 1]\n",
    "    b = rgbs[:, 2]\n",
    "    b1 = ((g << 3) & 0xE0) | ((b >> 3) & 0x1F)\n",
    "    b2 = (r & 0xF8) | ((g >> 5) & 0x07)\n",
    "    out[::2] = b1\n",
    "    out[1::2] = b2\n",
    "    return out\n",
    "\n",
    "\n",
    "rgbs = np.array([np.array([random.randint(0, 255), random.randint(0, 255), random.randint(0, 255)]) for x in range(1000)])\n",
    "\n",
    "start = time.time()\n",
    "for i in range(1000):\n",
    "    out = RgbToBits(rgbs)\n",
    "stop = time.time()\n",
    "\n",
    "print(\"Old method: {} secs\".format(stop - start))\n",
    "\n",
    "\n",
    "start = time.time()\n",
    "for i in range(1000):\n",
    "    out = RgbToBits_Opt(rgbs)\n",
    "stop = time.time()\n",
    "\n",
    "print(\"New method: {} secs\".format(stop - start))\n",
    "\n",
    "rgbs = np.array([[255, 0, 0], [255, 255, 0]], dtype=np.uint8)\n",
    "print(str(messages.RgbToBits(rgbs)))\n",
    "print(str(messages.PrepareLedMsg(0, rgbs)))"
   ]
  },
  {
   "cell_type": "code",
   "execution_count": 20,
   "metadata": {},
   "outputs": [
    {
     "data": {
      "text/plain": [
       "2"
      ]
     },
     "execution_count": 20,
     "metadata": {},
     "output_type": "execute_result"
    }
   ],
   "source": [
    "rgbs = np.array([[255, 0, 0], [255, 255, 0]], dtype=np.uint8)\n",
    "len(rgbs)"
   ]
  }
 ],
 "metadata": {
  "kernelspec": {
   "display_name": "Python 3.7.13 ('base')",
   "language": "python",
   "name": "python3"
  },
  "language_info": {
   "codemirror_mode": {
    "name": "ipython",
    "version": 3
   },
   "file_extension": ".py",
   "mimetype": "text/x-python",
   "name": "python",
   "nbconvert_exporter": "python",
   "pygments_lexer": "ipython3",
   "version": "3.7.13"
  },
  "orig_nbformat": 4,
  "vscode": {
   "interpreter": {
    "hash": "40d3a090f54c6569ab1632332b64b2c03c39dcf918b08424e98f38b5ae0af88f"
   }
  }
 },
 "nbformat": 4,
 "nbformat_minor": 2
}
