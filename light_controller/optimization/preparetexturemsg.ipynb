{
 "cells": [
  {
   "cell_type": "code",
   "execution_count": null,
   "metadata": {},
   "outputs": [],
   "source": [
    "import random\n",
    "import numpy as np\n",
    "import time\n",
    "from funky_lights import messages\n",
    "from functools import reduce\n",
    "from operator import add"
   ]
  },
  {
   "cell_type": "code",
   "execution_count": null,
   "metadata": {},
   "outputs": [],
   "source": [
    "TEXTURE_WIDTH = 128\n",
    "TEXTURE_HEIGHT = 128\n",
    "TEXTURE_SIZE = TEXTURE_WIDTH * TEXTURE_HEIGHT * 4\n",
    "\n",
    "class Segment:\n",
    "    def __init__(self, uid, num_leds, led_positions):\n",
    "        self.uid = uid\n",
    "        self.num_leds = num_leds\n",
    "        self.colors = np.array([[255, 0, 0] for i in range(num_leds)], dtype=np.ubyte)\n",
    "        self.led_positions = np.array(led_positions)\n",
    "\n",
    "def PrepareTextureMsg(segments):\n",
    "    msg = []\n",
    "    texture_size = TEXTURE_SIZE\n",
    "    for segment in segments:\n",
    "        for color in segment.colors:\n",
    "            msg += [color[0], color[1], color[2], 255]\n",
    "    msg += [0] * (texture_size - len(msg))\n",
    "    return bytearray(msg)\n",
    "\n",
    "\n",
    "def PrepareTextureMsg_Opt(segments):\n",
    "    all_colors = []\n",
    "    for segment in segments:\n",
    "        alpha = np.zeros((segment.colors.shape[0], 1), dtype=np.uint8)\n",
    "        colors = np.append(segment.colors, alpha, axis=1)\n",
    "        all_colors.append(colors)   \n",
    "    bytes = b\"\".join([colors.tobytes() for colors in all_colors])\n",
    "    bytes += bytearray(TEXTURE_SIZE - len(bytes))\n",
    "    return bytearray(bytes)\n",
    "\n",
    "\n",
    "def PrepareTextureMsg_Opt2(segments):\n",
    "    out = np.zeros(TEXTURE_SIZE, dtype=np.uint8)\n",
    "    r = np.concatenate([segment.colors[:, 0] for segment in segments], axis=None)\n",
    "    g = np.concatenate([segment.colors[:, 1] for segment in segments], axis=None)\n",
    "    b = np.concatenate([segment.colors[:, 2] for segment in segments], axis=None)\n",
    "    color_bytes = reduce(add, [segment.num_leds for segment in segments]) * 4\n",
    "    out[:color_bytes:4] = r\n",
    "    out[1:color_bytes:4] = g\n",
    "    out[2:color_bytes:4] = b\n",
    "    return bytearray(out)\n",
    "\n",
    "def PrepareTextureMsg_Opt3(segments):\n",
    "    bytes = b\"\".join([segment.colors.tobytes() for segment in segments])\n",
    "    bytes += bytearray(TEXTURE_SIZE - len(bytes))\n",
    "    return bytearray(bytes)\n",
    "\n",
    "\n",
    "segments = []\n",
    "for i in range(50):\n",
    "    num_leds = 100\n",
    "    led_positions = [[[random.randrange(1), random.randrange(1), random.randrange(1)]] for x in range(num_leds)]\n",
    "    segment = Segment(i, num_leds, led_positions)\n",
    "    segments.append(segment)\n",
    "\n",
    "start = time.time()\n",
    "for i in range(1000):\n",
    "    out = PrepareTextureMsg(segments)\n",
    "stop = time.time()\n",
    "print(\"Old method: {} secs\".format(stop - start))\n",
    "\n",
    "\n",
    "start = time.time()\n",
    "for i in range(1000):\n",
    "    out = PrepareTextureMsg_Opt2(segments)\n",
    "stop = time.time()\n",
    "print(\"New method: {} secs\".format(stop - start))"
   ]
  }
 ],
 "metadata": {
  "kernelspec": {
   "display_name": "Python 3.7.13 ('base')",
   "language": "python",
   "name": "python3"
  },
  "language_info": {
   "codemirror_mode": {
    "name": "ipython",
    "version": 3
   },
   "file_extension": ".py",
   "mimetype": "text/x-python",
   "name": "python",
   "nbconvert_exporter": "python",
   "pygments_lexer": "ipython3",
   "version": "3.7.13"
  },
  "orig_nbformat": 4,
  "vscode": {
   "interpreter": {
    "hash": "40d3a090f54c6569ab1632332b64b2c03c39dcf918b08424e98f38b5ae0af88f"
   }
  }
 },
 "nbformat": 4,
 "nbformat_minor": 2
}
